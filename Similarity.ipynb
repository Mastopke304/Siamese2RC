{
 "cells": [
  {
   "cell_type": "code",
   "execution_count": 1,
   "id": "0676f8c5",
   "metadata": {},
   "outputs": [],
   "source": [
    "import numpy as np\n",
    "import matplotlib.pyplot as plt\n",
    "from torch.utils.data import Dataset, DataLoader, random_split\n",
    "import random\n",
    "from torchvision.datasets import mnist\n",
    "import seaborn as sns\n",
    "import cv2\n",
    "import time\n",
    "import torch\n",
    "from torch import nn\n",
    "from sklearn.metrics import roc_auc_score, roc_curve, auc\n",
    "from PIL import Image\n",
    "from PIL import ImageFile\n",
    "from skimage.util import random_noise"
   ]
  },
  {
   "cell_type": "code",
   "execution_count": 2,
   "id": "9a9f7a0d",
   "metadata": {},
   "outputs": [],
   "source": [
    "cnn_channels = 96\n",
    "num_vec = 16\n",
    "inSize = int((cnn_channels*6*6)/num_vec*2)\n",
    "outSize = 1\n",
    "resSize = 2000\n",
    "a = 0.3\n",
    "trainLen = 8192\n",
    "batch_size_train = 1024\n",
    "batch_size_test = 1000\n",
    "one = torch.ones([1,1])\n",
    "DEVICE = torch.device('cuda' if torch.cuda.is_available() else 'cpu')"
   ]
  },
  {
   "cell_type": "code",
   "execution_count": 3,
   "id": "627d082a",
   "metadata": {},
   "outputs": [
    {
     "data": {
      "text/plain": [
       "<torch._C.Generator at 0x23e6a488ef0>"
      ]
     },
     "execution_count": 3,
     "metadata": {},
     "output_type": "execute_result"
    }
   ],
   "source": [
    "np.random.seed(304)\n",
    "torch.manual_seed(304)"
   ]
  },
  {
   "cell_type": "code",
   "execution_count": 4,
   "id": "2705c4b9",
   "metadata": {},
   "outputs": [],
   "source": [
    "def sigmoid(x):\n",
    "    s = 1/(1 + torch.exp(-x))\n",
    "    return s"
   ]
  },
  {
   "cell_type": "code",
   "execution_count": 5,
   "id": "dcde5e77",
   "metadata": {},
   "outputs": [],
   "source": [
    "class PairedDataset(Dataset):\n",
    "    def __init__(self, imgs, labels):\n",
    "        self.x = imgs\n",
    "        self.y = labels\n",
    "        \n",
    "    def __len__(self):\n",
    "        return len(self.x)    \n",
    "    \n",
    "    def __getitem__(self, index):\n",
    "        img0 = self.x[index] / 255\n",
    "        y0 = self.y[index]\n",
    "        if np.random.rand() < 0.5:\n",
    "            idx = np.random.choice(np.arange(len(self.y))[self.y==y0],1)\n",
    "        else:\n",
    "            idx = np.random.choice(np.arange(len(self.y))[self.y!=y0],1)\n",
    "                    \n",
    "        img1 = self.x[idx[0]] / 255\n",
    "        y1 = self.y[idx[0]]\n",
    "        if y0==y1:\n",
    "            label = 1\n",
    "        else:\n",
    "            label = 0\n",
    "        \n",
    "        return torch.from_numpy(img0), torch.from_numpy(img1), torch.tensor(label)"
   ]
  },
  {
   "cell_type": "code",
   "execution_count": 6,
   "id": "6e5242ef",
   "metadata": {},
   "outputs": [
    {
     "name": "stdout",
     "output_type": "stream",
     "text": [
      "(60000, 28, 28) (60000,)\n"
     ]
    },
    {
     "name": "stderr",
     "output_type": "stream",
     "text": [
      "D:\\ProgramData\\Anaconda3\\lib\\site-packages\\torchvision\\datasets\\mnist.py:498: UserWarning: The given NumPy array is not writeable, and PyTorch does not support non-writeable tensors. This means you can write to the underlying (supposedly non-writeable) NumPy array using the tensor. You may want to copy the array to protect its data or make it writeable before converting it to a tensor. This type of warning will be suppressed for the rest of this program. (Triggered internally at  ..\\torch\\csrc\\utils\\tensor_numpy.cpp:180.)\n",
      "  return torch.from_numpy(parsed.astype(m[2], copy=False)).view(*s)\n"
     ]
    }
   ],
   "source": [
    "train_set = mnist.MNIST('./data', train=True, download=True)\n",
    "test_set = mnist.MNIST('./data', train=False, download=True)\n",
    "\n",
    "train_imgs = train_set.data.numpy()\n",
    "train_labels = train_set.targets.numpy()\n",
    "\n",
    "test_imgs = test_set.data.numpy()\n",
    "test_labels = test_set.targets.numpy()\n",
    "\n",
    "print(train_imgs.shape,  train_labels.shape)"
   ]
  },
  {
   "cell_type": "code",
   "execution_count": 7,
   "id": "6a8a24e5",
   "metadata": {},
   "outputs": [],
   "source": [
    "train_paired = PairedDataset(train_imgs, train_labels)\n",
    "test_paired = PairedDataset(test_imgs, test_labels)"
   ]
  },
  {
   "cell_type": "code",
   "execution_count": 8,
   "id": "080fc553",
   "metadata": {},
   "outputs": [],
   "source": [
    "train_iter = DataLoader(train_paired, batch_size=batch_size_train, drop_last=True)\n",
    "test_iter = DataLoader(test_paired, batch_size=batch_size_test, drop_last=True)"
   ]
  },
  {
   "cell_type": "code",
   "execution_count": 9,
   "id": "67e81142",
   "metadata": {},
   "outputs": [],
   "source": [
    "def addGaussNoise(data, sigma):\n",
    "    sigma2 = sigma**2 / (255 ** 2)\n",
    "    noise = random_noise(data, mode='gaussian', var=sigma2, clip=True)\n",
    "    return noise"
   ]
  },
  {
   "cell_type": "code",
   "execution_count": 10,
   "id": "bd424ac5",
   "metadata": {},
   "outputs": [],
   "source": [
    "Win = (torch.rand([resSize,1+inSize])-0.5) * 2.4\n",
    "W = (torch.rand(resSize,resSize)-0.5)\n",
    "Win[abs(Win) > 0.6] = 0\n",
    "#W[abs(W) > 0.05] = 0"
   ]
  },
  {
   "cell_type": "code",
   "execution_count": 11,
   "id": "0fb92239",
   "metadata": {},
   "outputs": [],
   "source": [
    "rhoW = max(abs(torch.linalg.eig(W)[0]))\n",
    "W *= 1.25 / rhoW\n",
    "reg = 1e-12"
   ]
  },
  {
   "cell_type": "code",
   "execution_count": 12,
   "id": "5489daa8",
   "metadata": {},
   "outputs": [],
   "source": [
    "class ReservoirNet(object):\n",
    "    def __init__(self, inSize, resSize, a, device):\n",
    "        super(ReservoirNet, self).__init__()\n",
    "        self.device = device\n",
    "        self.inSize = inSize\n",
    "        self.resSize = resSize\n",
    "        self.a = a\n",
    "        self.Win = (torch.rand([self.resSize, 1 + self.inSize]).to(self.device) - 0.5) * 2.4\n",
    "        self.W = (torch.rand(self.resSize, self.resSize).to(self.device) - 0.5)\n",
    "        self.Win[abs(self.Win) > 0.6] = 0\n",
    "        self.rhoW = max(abs(torch.linalg.eig(self.W)[0]))\n",
    "        self.W *= 1.25 / self.rhoW\n",
    "        self.reg = 1e-12\n",
    "        self.one = torch.ones([1, 1]).to(self.device)\n",
    "\n",
    "\n",
    "    def RCPred(self, Wout, RCin):\n",
    "        T = RCin.size(0)\n",
    "        X = torch.zeros([1 + self.inSize + self.resSize, T]).to(self.device)\n",
    "        x = torch.zeros((self.resSize, 1)).to(self.device)\n",
    "        for t in range(RCin.size(0)):\n",
    "            u = RCin[t:t + 1, :].T\n",
    "            x = (1 - self.a) * x + self.a * sigmoid(torch.matmul(self.Win, torch.vstack((self.one, u))) + torch.matmul(self.W, x))\n",
    "            X[:, t] = torch.vstack((self.one, u, x))[:, 0]\n",
    "\n",
    "        pred = Wout @ X\n",
    "        return pred\n",
    "\n",
    "\n",
    "    def forward(self, data, labels):\n",
    "        self.U = data\n",
    "        self.Yt = labels\n",
    "        self.T = labels.size(0)\n",
    "        self.X = torch.zeros([1 + self.inSize + self.resSize, self.T]).to(self.device)\n",
    "        self.x = torch.zeros((self.resSize, 1)).to(self.device)\n",
    "\n",
    "        for t in range(self.U.size(0)):\n",
    "            self.u = self.U[t:t + 1, :].T\n",
    "            self.x = (1 - self.a) * self.x + self.a * sigmoid(\n",
    "                torch.matmul(self.Win, torch.vstack((self.one, self.u))) + torch.matmul(self.W, self.x))\n",
    "            self.X[:, t] = torch.vstack((self.one, self.u, self.x))[:, 0]\n",
    "\n",
    "        self.Wout = torch.matmul(torch.matmul(self.Yt.T, self.X.T),\n",
    "                                 torch.linalg.inv(\n",
    "                                     torch.matmul(self.X, self.X.T) + self.reg * torch.eye(1 + self.inSize + self.resSize).to(self.device)))\n",
    "\n",
    "        return self.Wout"
   ]
  },
  {
   "cell_type": "code",
   "execution_count": 15,
   "id": "ceb82751",
   "metadata": {},
   "outputs": [],
   "source": [
    "class Siamese2RC(nn.Module):\n",
    "    def __init__(self, inSize, filters):\n",
    "        super(Siamese2RC, self).__init__()\n",
    "        self.inSize = inSize\n",
    "        self.filter1, self.filter2, self.filter3, self.filter4 = filters\n",
    "\n",
    "        self.layer1 = nn.Sequential(nn.Conv2d(1, self.filter1, kernel_size=3, bias=False),\n",
    "                                    nn.PReLU(),\n",
    "                                    nn.MaxPool2d(3, stride=1))\n",
    "\n",
    "        self.layer2 = nn.Sequential(nn.Conv2d(self.filter1, self.filter2, kernel_size=3, bias=False),\n",
    "                                    nn.PReLU(),\n",
    "                                    nn.AvgPool2d(3, stride=1))\n",
    "\n",
    "        self.layer3 = nn.Sequential(nn.Conv2d(self.filter2, self.filter3, kernel_size=3, bias=False),\n",
    "                                    nn.PReLU(),\n",
    "                                    nn.AvgPool2d(3, stride=2))\n",
    "\n",
    "        self.layer4 = nn.Sequential(nn.Conv2d(self.filter3, self.filter4, kernel_size=3, bias=False),\n",
    "                                    nn.PReLU())\n",
    "\n",
    "    def forward_once(self, x):\n",
    "        x = x.unsqueeze(1).to(torch.float32)\n",
    "        x = self.layer1(x)\n",
    "        x = self.layer2(x)\n",
    "        x = self.layer3(x)\n",
    "        x = self.layer4(x)\n",
    "\n",
    "        return x\n",
    "\n",
    "    def forward(self, img0, img1):\n",
    "        img0 = self.forward_once(img0)\n",
    "        img1 = self.forward_once(img1)\n",
    "\n",
    "        img0 = img0.view((-1, int(self.inSize / 2)))\n",
    "        img1 = img1.view((-1, int(self.inSize / 2)))\n",
    "\n",
    "        out = torch.cat((img0, img1), dim=-1)\n",
    "\n",
    "        return out"
   ]
  },
  {
   "cell_type": "code",
   "execution_count": 16,
   "id": "e4d3fff6",
   "metadata": {},
   "outputs": [],
   "source": [
    "Net2rc = Siamese2RC(inSize, [32,64,96,96])\n",
    "Rc = ReservoirNet(inSize, resSize, a, DEVICE)"
   ]
  },
  {
   "cell_type": "code",
   "execution_count": 17,
   "id": "35926a2a",
   "metadata": {},
   "outputs": [],
   "source": [
    "def weight_init(net):\n",
    "    if isinstance(net, nn.Conv2d):\n",
    "        nn.init.kaiming_uniform_(net.weight, mode='fan_in', nonlinearity='leaky_relu')"
   ]
  },
  {
   "cell_type": "code",
   "execution_count": 18,
   "id": "14dbb087",
   "metadata": {},
   "outputs": [],
   "source": [
    "loss = nn.MSELoss().to(DEVICE)\n",
    "Train_MSE = []\n",
    "Train_AUC = []\n",
    "Test_MSE = []\n",
    "Test_AUC = []"
   ]
  },
  {
   "cell_type": "code",
   "execution_count": 22,
   "id": "8eff7265",
   "metadata": {},
   "outputs": [],
   "source": [
    "# Original Version: Concatenate all the output of CNN then feed into RC once.\n",
    "def train(net2rc, rc, train_iter, device):\n",
    "    print(\"train on\",device)\n",
    "    net2rc.apply(weight_init)\n",
    "    net2rc.to(device)\n",
    "    rc.to(device)\n",
    "    cuda = next(net2rc.parameters()).device\n",
    "    start = time.time()\n",
    "    net2rc.eval()\n",
    "    with torch.no_grad():\n",
    "        similarity = torch.zeros((trainLen, 1))\n",
    "        gt = torch.zeros((trainLen*num_vec))\n",
    "        labels = torch.zeros((trainLen, 1))\n",
    "        RCin = torch.zeros((trainLen*num_vec, inSize))\n",
    "        for times in range(10):\n",
    "            for i,(img0,img1,label) in enumerate(train_iter):\n",
    "                img0, img1, label = img0.to(cuda), img1.to(cuda), label.to(cuda)\n",
    "                RCin[i*batch_size_train*num_vec:(i+1)*batch_size_train*num_vec, :] = net2rc(img0, img1)\n",
    "                gt[i*batch_size_train*num_vec:(i+1)*batch_size_train*num_vec] = torch.hstack([torch.tensor([label[t] for _ in range(num_vec)]).T for t in range(batch_size_train)]).to(torch.float32)\n",
    "                if (i+1)*batch_size_train >= trainLen:\n",
    "                    break\n",
    "            Wout = rc(RCin, gt)\n",
    "            pred = RCPred(Wout, RCin)\n",
    "            for t in range(trainLen):\n",
    "                similarity[t,:] = torch.mean(pred[t*num_vec:(t+1)*num_vec])\n",
    "                labels[t,:] = gt[t*num_vec]\n",
    "            l = loss(similarity, labels.float())\n",
    "            Train_MSE.append(l.item())\n",
    "            auc = roc_auc_score(labels.detach().numpy(), \n",
    "                                similarity.squeeze().detach().numpy())\n",
    "            Train_AUC .append(auc)\n",
    "            print(f'Times: {times+1}, MSE: {l.item():.4f}, AUC: {auc:.4f}')\n",
    "        time_train = time.time() - start\n",
    "        print(f'Time cost for training: {time_train:.4f}s')\n",
    "    \n",
    "    return Wout"
   ]
  },
  {
   "cell_type": "code",
   "execution_count": 23,
   "id": "ccd483ee",
   "metadata": {},
   "outputs": [],
   "source": [
    "# Update Version 1: divide train data into mini-batchs and calculate Wout_k respectively, the Wout is the average of all Wout_k. \n",
    "# Do it 10 times, choose the Wout which have the best performance on test data as the final Wout.\n",
    "def train(net2rc, rc, train_iter, device):\n",
    "    print(\"train on\",device)\n",
    "    net2rc.apply(weight_init)\n",
    "    net2rc.to(device)\n",
    "    rc.to(device)\n",
    "    cuda = next(net2rc.parameters()).device\n",
    "    start = time.time()\n",
    "    net2rc.eval()\n",
    "    with torch.no_grad():\n",
    "        Wouts = []\n",
    "        similarity = torch.zeros((10, batch_size_train))\n",
    "        labels = torch.zeros((10, batch_size_train))\n",
    "        for times in range(10):\n",
    "            for i,(img0,img1,label) in enumerate(train_iter):\n",
    "                img0, img1, label = img0.to(cuda), img1.to(cuda), label.to(cuda)\n",
    "                RCin = net2rc(img0, img1)\n",
    "                gt = torch.hstack([torch.tensor([label[t] for _ in range(num_vec)]).T for t in range(batch_size_train)]).to(torch.float32)\n",
    "                if i == 0:\n",
    "                    batch_Wout = rc(RCin, gt)\n",
    "                elif i > 0 and (i+1)*batch_size_train <= trainLen:\n",
    "                    batch_Wout = batch_Wout + rc(RCin, gt)\n",
    "                else:\n",
    "                    break\n",
    "            Wouts.append(batch_Wout/(trainLen/batch_size_train))\n",
    "            pred = RCPred(Wouts[times], RCin)\n",
    "            for t in range(batch_size_train):\n",
    "                similarity[times,t] = torch.mean(pred[t*num_vec:(t+1)*num_vec])\n",
    "                labels[times,t] = gt[t*num_vec]\n",
    "            l = loss(similarity[times,:], labels[times,:].float())\n",
    "            Train_MSE.append(l.item())\n",
    "            auc = roc_auc_score(labels[times,:].detach().numpy(), \n",
    "                                similarity[times,:].detach().numpy())\n",
    "            Train_AUC .append(auc)\n",
    "            print(f'Times: {times+1}, MSE: {l.item():.4f}, AUC: {auc:.4f}')\n",
    "        maxAUC_idx = Train_AUC.index(max(Train_AUC))\n",
    "        time_train = time.time() - start\n",
    "        print(f'Best AUC: {Train_AUC[maxAUC_idx]:.4f} from Weight_{maxAUC_idx}')\n",
    "        print(f'Time cost for training: {time_train:.4f}s')\n",
    "    \n",
    "    return Wouts"
   ]
  },
  {
   "cell_type": "code",
   "execution_count": 19,
   "id": "91f6462f",
   "metadata": {},
   "outputs": [],
   "source": [
    "# Update Version 2: same as version 1, but combined the fucntion of training and validating.\n",
    "# And it is able to provide Wouts with both the best train perfomance and validation performance respectively.\n",
    "def train(net2rc, rc, train_iter, test_iter, device):\n",
    "    print(\"train on\",device)\n",
    "    net2rc.apply(weight_init)\n",
    "    net2rc.to(device)\n",
    "    net2rc.eval()\n",
    "    start = time.time()\n",
    "    with torch.no_grad():\n",
    "        Wouts = []\n",
    "        train_simi = torch.zeros((10, batch_size_train)).to(device)\n",
    "        train_labels = torch.zeros((10, batch_size_train)).to(device)\n",
    "        test_simi = torch.zeros((10, batch_size_test)).to(device)\n",
    "        for times in range(10):\n",
    "            train_start = time.time()\n",
    "            for i,(img0,img1,label) in enumerate(train_iter):\n",
    "                img0, img1, label = img0.to(device), img1.to(device), label.to(device)\n",
    "                RCin = net2rc(img0, img1)\n",
    "                gt = torch.hstack([torch.tensor([label[t] for _ in range(num_vec)]).T for t in range(batch_size_train)]).to(torch.float32).to(device)\n",
    "                if i == 0:\n",
    "                    batch_Wout = rc.forward(RCin, gt)\n",
    "                elif i > 0 and (i+1)*batch_size_train <= trainLen:\n",
    "                    batch_Wout = batch_Wout + rc.forward(RCin, gt)\n",
    "                else:\n",
    "                    break\n",
    "            Wouts.append(batch_Wout/(trainLen/batch_size_train))\n",
    "            pred = rc.RCPred(Wouts[times], RCin)\n",
    "            for t in range(batch_size_train):\n",
    "                train_simi[times,t] = torch.mean(pred[t*num_vec:(t+1)*num_vec])\n",
    "                train_labels[times,t] = gt[t*num_vec]\n",
    "            l = loss(train_simi[times,:], train_labels[times,:].float())\n",
    "            Train_MSE.append(l.item())\n",
    "            auc = roc_auc_score(train_labels[times,:].detach().cpu().numpy(), \n",
    "                                train_simi[times,:].detach().cpu().numpy())\n",
    "            Train_AUC .append(auc)\n",
    "            train_end = time.time() - train_start\n",
    "            print('================================')\n",
    "            print(f'Time cost for training: {train_end:.4f}s')\n",
    "            batch_MSE = []\n",
    "            batch_AUC = []\n",
    "            test_start = time.time()\n",
    "            for i,(img0,img1,label) in enumerate(test_iter):\n",
    "                img0, img1, label = img0.to(device), img1.to(device), label.to(device)\n",
    "                RCin = net2rc(img0, img1)\n",
    "                pred = rc.RCPred(Wouts[times], RCin)\n",
    "                for t in range(batch_size_test):\n",
    "                    test_simi[times, t] = torch.mean(pred[t*num_vec:(t+1)*num_vec])\n",
    "                l = loss(test_simi[times], label.float())\n",
    "                batch_MSE.append(l.item())\n",
    "                auc = roc_auc_score(label.detach().cpu().numpy(), \n",
    "                                    test_simi[times,:].detach().cpu().numpy())\n",
    "                batch_AUC.append(auc)\n",
    "            Test_MSE.append(np.mean(batch_MSE))\n",
    "            Test_AUC.append(np.mean(batch_AUC))\n",
    "            test_end = time.time() - test_start\n",
    "            print(f'Times: {times+1}, Train MSE: {Train_MSE[times]:.4f}, Train AUC: {Train_AUC[times]:.4f}')\n",
    "            print(f'Times: {times+1}, Test MSE: {Test_MSE[times]:.4f}, Test AUC: {Test_AUC[times]:.4f}')\n",
    "            print(f'Time cost for testing: {test_end:.4f}s')\n",
    "        trainAUC_idx = Train_AUC.index(max(Train_AUC))\n",
    "        testAUC_idx = Test_AUC.index(max(Test_AUC))\n",
    "        total_cost = time.time() - start\n",
    "        torch.save(net2rc.state_dict(),f'./result/Ver2/Siamese_{inSize}.pth')\n",
    "        print(f'Best train AUC: {Train_AUC[trainAUC_idx]:.4f} from Weight {trainAUC_idx}')\n",
    "        print(f'Best test AUC: {Test_AUC[testAUC_idx]:.4f} from Weight {testAUC_idx}')\n",
    "        print(f'Total cost for 10 times training and testing: {total_cost:.4f}s')\n",
    "        Wout = Wouts[testAUC_idx]\n",
    "        np.save(f'./result/Ver2/Wouts_{trainLen}_{batch_size_train}_{resSize}.npy', Wout.detach().numpy())\n",
    "    \n",
    "    return Wouts, Wout"
   ]
  },
  {
   "cell_type": "code",
   "execution_count": 20,
   "id": "aac11cf7",
   "metadata": {
    "scrolled": true
   },
   "outputs": [
    {
     "name": "stdout",
     "output_type": "stream",
     "text": [
      "train on cpu\n",
      "================================\n",
      "Time cost for training: 89.6583s\n",
      "Times: 1, Train MSE: 0.1415, Train AUC: 0.9009\n",
      "Times: 1, Test MSE: 0.1376, Test AUC: 0.9078\n",
      "Time cost for testing: 82.3039s\n",
      "================================\n",
      "Time cost for training: 89.9918s\n",
      "Times: 2, Train MSE: 0.1348, Train AUC: 0.9186\n",
      "Times: 2, Test MSE: 0.1387, Test AUC: 0.9065\n",
      "Time cost for testing: 79.7072s\n",
      "================================\n",
      "Time cost for training: 88.7949s\n",
      "Times: 3, Train MSE: 0.1416, Train AUC: 0.9008\n",
      "Times: 3, Test MSE: 0.1365, Test AUC: 0.9098\n",
      "Time cost for testing: 79.8557s\n",
      "================================\n",
      "Time cost for training: 89.0375s\n",
      "Times: 4, Train MSE: 0.1417, Train AUC: 0.9021\n",
      "Times: 4, Test MSE: 0.1381, Test AUC: 0.9084\n",
      "Time cost for testing: 80.8483s\n",
      "================================\n",
      "Time cost for training: 89.6659s\n",
      "Times: 5, Train MSE: 0.1491, Train AUC: 0.8869\n",
      "Times: 5, Test MSE: 0.1386, Test AUC: 0.9062\n",
      "Time cost for testing: 82.1283s\n",
      "================================\n",
      "Time cost for training: 88.1606s\n",
      "Times: 6, Train MSE: 0.1440, Train AUC: 0.8945\n",
      "Times: 6, Test MSE: 0.1379, Test AUC: 0.9080\n",
      "Time cost for testing: 78.5713s\n",
      "================================\n",
      "Time cost for training: 87.2434s\n",
      "Times: 7, Train MSE: 0.1465, Train AUC: 0.8934\n",
      "Times: 7, Test MSE: 0.1381, Test AUC: 0.9064\n",
      "Time cost for testing: 78.4964s\n",
      "================================\n",
      "Time cost for training: 87.6502s\n",
      "Times: 8, Train MSE: 0.1475, Train AUC: 0.8885\n",
      "Times: 8, Test MSE: 0.1401, Test AUC: 0.9018\n",
      "Time cost for testing: 78.8647s\n",
      "================================\n",
      "Time cost for training: 87.8613s\n",
      "Times: 9, Train MSE: 0.1450, Train AUC: 0.8947\n",
      "Times: 9, Test MSE: 0.1387, Test AUC: 0.9042\n",
      "Time cost for testing: 78.4712s\n",
      "================================\n",
      "Time cost for training: 88.3173s\n",
      "Times: 10, Train MSE: 0.1463, Train AUC: 0.8910\n",
      "Times: 10, Test MSE: 0.1377, Test AUC: 0.9081\n",
      "Time cost for testing: 78.9382s\n",
      "Best train AUC: 0.9186 from Weight 1\n",
      "Best test AUC: 0.9098 from Weight 2\n",
      "Total cost for 10 times training and testing: 1684.5694s\n"
     ]
    }
   ],
   "source": [
    "Wouts, Wout = train(net2rc, rc, train_iter, test_iter, device)"
   ]
  },
  {
   "cell_type": "code",
   "execution_count": 28,
   "id": "42125533",
   "metadata": {},
   "outputs": [],
   "source": [
    "torch.save(net2rc.state_dict(),f'./result/Siamese_new.pth')\n",
    "np.save(f'./result/Wouts_{trainLen}_{batch_size_train}_{resSize}.npy', Wouts.detach().numpy())"
   ]
  },
  {
   "cell_type": "code",
   "execution_count": 21,
   "id": "e4afa955",
   "metadata": {},
   "outputs": [
    {
     "name": "stdout",
     "output_type": "stream",
     "text": [
      "0.12097075879573822\n",
      "0.9418529218091869\n"
     ]
    }
   ],
   "source": [
    "print(np.mean(Train_MSE))\n",
    "print(np.mean(Train_AUC))"
   ]
  },
  {
   "cell_type": "code",
   "execution_count": 19,
   "id": "b0e4f4e5",
   "metadata": {},
   "outputs": [],
   "source": [
    "MSE = []\n",
    "AUC = []"
   ]
  },
  {
   "cell_type": "code",
   "execution_count": 20,
   "id": "b5cec771",
   "metadata": {},
   "outputs": [],
   "source": [
    "def calculate_simi(model, test_iter, Wout, device):\n",
    "    print(\"test on\",device)\n",
    "    model.to(device)\n",
    "    cuda = next(model.parameters()).device\n",
    "    start = time.time()\n",
    "    model.eval()\n",
    "    with torch.no_grad():\n",
    "        similarity = torch.zeros((10000))\n",
    "        labels = torch.zeros((10000))\n",
    "        for i,(img0,img1,label) in enumerate(test_iter):\n",
    "            img0, img1, label = img0.to(cuda), img1.to(cuda), label.to(cuda)\n",
    "            labels[i*batch_size_test:(i+1)*batch_size_test] = label\n",
    "            if i == 0:\n",
    "                example0 = torch.hstack([img0[t] for t in range(10)])\n",
    "                example1 = torch.hstack([img1[t] for t in range(10)])\n",
    "                example = torch.cat((example0,example1),dim=0)\n",
    "            RCin = model(img0, img1)\n",
    "            pred = RCPred(Wout, RCin)\n",
    "            for t in range(batch_size_test):\n",
    "                similarity[i*batch_size_test+t] = torch.mean(pred[t*num_vec:(t+1)*num_vec])\n",
    "            l = loss(similarity[i*batch_size_test:(i+1)*batch_size_test], label.float())\n",
    "            MSE.append(l.item())\n",
    "            auc = roc_auc_score(label.detach().numpy(), \n",
    "                                similarity[i*batch_size_test:(i+1)*batch_size_test].detach().numpy())\n",
    "            AUC .append(auc)\n",
    "            print(f'Batch: {i+1}, MSE: {l.item():.4f}, AUC: {auc:.4f}')\n",
    "    time_test = time.time() - start\n",
    "    print(f'Time cost for testing: {time_test:.4f}s')\n",
    "    \n",
    "    return similarity, example, labels"
   ]
  },
  {
   "cell_type": "code",
   "execution_count": 22,
   "id": "040bffd9",
   "metadata": {
    "scrolled": true
   },
   "outputs": [
    {
     "data": {
      "text/plain": [
       "Siamese2RC(\n",
       "  (layer1): Sequential(\n",
       "    (0): Conv2d(1, 32, kernel_size=(3, 3), stride=(1, 1), bias=False)\n",
       "    (1): PReLU(num_parameters=1)\n",
       "    (2): MaxPool2d(kernel_size=3, stride=1, padding=0, dilation=1, ceil_mode=False)\n",
       "  )\n",
       "  (layer2): Sequential(\n",
       "    (0): Conv2d(32, 64, kernel_size=(3, 3), stride=(1, 1), bias=False)\n",
       "    (1): PReLU(num_parameters=1)\n",
       "    (2): AvgPool2d(kernel_size=3, stride=1, padding=0)\n",
       "  )\n",
       "  (layer3): Sequential(\n",
       "    (0): Conv2d(64, 96, kernel_size=(3, 3), stride=(1, 1), bias=False)\n",
       "    (1): PReLU(num_parameters=1)\n",
       "    (2): AvgPool2d(kernel_size=3, stride=2, padding=0)\n",
       "  )\n",
       "  (layer4): Sequential(\n",
       "    (0): Conv2d(96, 96, kernel_size=(3, 3), stride=(1, 1), bias=False)\n",
       "    (1): PReLU(num_parameters=1)\n",
       "  )\n",
       ")"
      ]
     },
     "execution_count": 22,
     "metadata": {},
     "output_type": "execute_result"
    }
   ],
   "source": [
    "Wout = torch.from_numpy(np.load('./result/train/weights/Wout_60000_10000_12000.npy'))\n",
    "model = Siamese2RC()\n",
    "model.load_state_dict(torch.load('./result/train/weights/Siamese_432.pth', map_location=torch.device('cpu')))\n",
    "model.eval()"
   ]
  },
  {
   "cell_type": "code",
   "execution_count": 23,
   "id": "871dd961",
   "metadata": {},
   "outputs": [
    {
     "name": "stdout",
     "output_type": "stream",
     "text": [
      "test on cpu\n",
      "Batch: 1, MSE: 0.1018, AUC: 0.9730\n",
      "Batch: 2, MSE: 0.1007, AUC: 0.9651\n"
     ]
    },
    {
     "ename": "KeyboardInterrupt",
     "evalue": "",
     "output_type": "error",
     "traceback": [
      "\u001b[1;31m---------------------------------------------------------------------------\u001b[0m",
      "\u001b[1;31mKeyboardInterrupt\u001b[0m                         Traceback (most recent call last)",
      "\u001b[1;32m<ipython-input-23-d7d6627f00ed>\u001b[0m in \u001b[0;36m<module>\u001b[1;34m\u001b[0m\n\u001b[1;32m----> 1\u001b[1;33m \u001b[0msimilarity\u001b[0m\u001b[1;33m,\u001b[0m \u001b[0mexample\u001b[0m\u001b[1;33m,\u001b[0m \u001b[0mlabels\u001b[0m \u001b[1;33m=\u001b[0m \u001b[0mcalculate_simi\u001b[0m\u001b[1;33m(\u001b[0m\u001b[0mmodel\u001b[0m\u001b[1;33m,\u001b[0m \u001b[0mtest_iter\u001b[0m\u001b[1;33m,\u001b[0m \u001b[0mWout\u001b[0m\u001b[1;33m,\u001b[0m \u001b[0mdevice\u001b[0m\u001b[1;33m)\u001b[0m\u001b[1;33m\u001b[0m\u001b[1;33m\u001b[0m\u001b[0m\n\u001b[0m",
      "\u001b[1;32m<ipython-input-20-19b3b4faebb6>\u001b[0m in \u001b[0;36mcalculate_simi\u001b[1;34m(model, test_iter, Wout, device)\u001b[0m\n\u001b[0;32m     16\u001b[0m                 \u001b[0mexample\u001b[0m \u001b[1;33m=\u001b[0m \u001b[0mtorch\u001b[0m\u001b[1;33m.\u001b[0m\u001b[0mcat\u001b[0m\u001b[1;33m(\u001b[0m\u001b[1;33m(\u001b[0m\u001b[0mexample0\u001b[0m\u001b[1;33m,\u001b[0m\u001b[0mexample1\u001b[0m\u001b[1;33m)\u001b[0m\u001b[1;33m,\u001b[0m\u001b[0mdim\u001b[0m\u001b[1;33m=\u001b[0m\u001b[1;36m0\u001b[0m\u001b[1;33m)\u001b[0m\u001b[1;33m\u001b[0m\u001b[1;33m\u001b[0m\u001b[0m\n\u001b[0;32m     17\u001b[0m             \u001b[0mRCin\u001b[0m \u001b[1;33m=\u001b[0m \u001b[0mmodel\u001b[0m\u001b[1;33m(\u001b[0m\u001b[0mimg0\u001b[0m\u001b[1;33m,\u001b[0m \u001b[0mimg1\u001b[0m\u001b[1;33m)\u001b[0m\u001b[1;33m\u001b[0m\u001b[1;33m\u001b[0m\u001b[0m\n\u001b[1;32m---> 18\u001b[1;33m             \u001b[0mpred\u001b[0m \u001b[1;33m=\u001b[0m \u001b[0mRCPred\u001b[0m\u001b[1;33m(\u001b[0m\u001b[0mWout\u001b[0m\u001b[1;33m,\u001b[0m \u001b[0mRCin\u001b[0m\u001b[1;33m)\u001b[0m\u001b[1;33m\u001b[0m\u001b[1;33m\u001b[0m\u001b[0m\n\u001b[0m\u001b[0;32m     19\u001b[0m             \u001b[1;32mfor\u001b[0m \u001b[0mt\u001b[0m \u001b[1;32min\u001b[0m \u001b[0mrange\u001b[0m\u001b[1;33m(\u001b[0m\u001b[0mbatch_size_test\u001b[0m\u001b[1;33m)\u001b[0m\u001b[1;33m:\u001b[0m\u001b[1;33m\u001b[0m\u001b[1;33m\u001b[0m\u001b[0m\n\u001b[0;32m     20\u001b[0m                 \u001b[0msimilarity\u001b[0m\u001b[1;33m[\u001b[0m\u001b[0mi\u001b[0m\u001b[1;33m*\u001b[0m\u001b[0mbatch_size_test\u001b[0m\u001b[1;33m+\u001b[0m\u001b[0mt\u001b[0m\u001b[1;33m]\u001b[0m \u001b[1;33m=\u001b[0m \u001b[0mtorch\u001b[0m\u001b[1;33m.\u001b[0m\u001b[0mmean\u001b[0m\u001b[1;33m(\u001b[0m\u001b[0mpred\u001b[0m\u001b[1;33m[\u001b[0m\u001b[0mt\u001b[0m\u001b[1;33m*\u001b[0m\u001b[0mnum_vec\u001b[0m\u001b[1;33m:\u001b[0m\u001b[1;33m(\u001b[0m\u001b[0mt\u001b[0m\u001b[1;33m+\u001b[0m\u001b[1;36m1\u001b[0m\u001b[1;33m)\u001b[0m\u001b[1;33m*\u001b[0m\u001b[0mnum_vec\u001b[0m\u001b[1;33m]\u001b[0m\u001b[1;33m)\u001b[0m\u001b[1;33m\u001b[0m\u001b[1;33m\u001b[0m\u001b[0m\n",
      "\u001b[1;32m<ipython-input-14-3b63c43d739c>\u001b[0m in \u001b[0;36mRCPred\u001b[1;34m(Wout, RCin)\u001b[0m\n\u001b[0;32m      5\u001b[0m     \u001b[1;32mfor\u001b[0m \u001b[0mt\u001b[0m \u001b[1;32min\u001b[0m \u001b[0mrange\u001b[0m\u001b[1;33m(\u001b[0m\u001b[0mRCin\u001b[0m\u001b[1;33m.\u001b[0m\u001b[0msize\u001b[0m\u001b[1;33m(\u001b[0m\u001b[1;36m0\u001b[0m\u001b[1;33m)\u001b[0m\u001b[1;33m)\u001b[0m\u001b[1;33m:\u001b[0m\u001b[1;33m\u001b[0m\u001b[1;33m\u001b[0m\u001b[0m\n\u001b[0;32m      6\u001b[0m         \u001b[0mu\u001b[0m \u001b[1;33m=\u001b[0m \u001b[0mRCin\u001b[0m\u001b[1;33m[\u001b[0m\u001b[0mt\u001b[0m\u001b[1;33m:\u001b[0m\u001b[0mt\u001b[0m\u001b[1;33m+\u001b[0m\u001b[1;36m1\u001b[0m\u001b[1;33m,\u001b[0m\u001b[1;33m:\u001b[0m\u001b[1;33m]\u001b[0m\u001b[1;33m.\u001b[0m\u001b[0mT\u001b[0m\u001b[1;33m\u001b[0m\u001b[1;33m\u001b[0m\u001b[0m\n\u001b[1;32m----> 7\u001b[1;33m         \u001b[0mx\u001b[0m \u001b[1;33m=\u001b[0m \u001b[1;33m(\u001b[0m\u001b[1;36m1\u001b[0m\u001b[1;33m-\u001b[0m\u001b[0ma\u001b[0m\u001b[1;33m)\u001b[0m \u001b[1;33m*\u001b[0m \u001b[0mx\u001b[0m \u001b[1;33m+\u001b[0m \u001b[0ma\u001b[0m \u001b[1;33m*\u001b[0m \u001b[0msigmoid\u001b[0m\u001b[1;33m(\u001b[0m\u001b[0mtorch\u001b[0m\u001b[1;33m.\u001b[0m\u001b[0mmatmul\u001b[0m\u001b[1;33m(\u001b[0m\u001b[0mWin\u001b[0m\u001b[1;33m,\u001b[0m \u001b[0mtorch\u001b[0m\u001b[1;33m.\u001b[0m\u001b[0mvstack\u001b[0m\u001b[1;33m(\u001b[0m\u001b[1;33m(\u001b[0m\u001b[0mone\u001b[0m\u001b[1;33m,\u001b[0m \u001b[0mu\u001b[0m\u001b[1;33m)\u001b[0m\u001b[1;33m)\u001b[0m\u001b[1;33m)\u001b[0m \u001b[1;33m+\u001b[0m \u001b[0mtorch\u001b[0m\u001b[1;33m.\u001b[0m\u001b[0mmatmul\u001b[0m\u001b[1;33m(\u001b[0m\u001b[0mW\u001b[0m\u001b[1;33m,\u001b[0m \u001b[0mx\u001b[0m\u001b[1;33m)\u001b[0m\u001b[1;33m)\u001b[0m\u001b[1;33m\u001b[0m\u001b[1;33m\u001b[0m\u001b[0m\n\u001b[0m\u001b[0;32m      8\u001b[0m         \u001b[0mX\u001b[0m\u001b[1;33m[\u001b[0m\u001b[1;33m:\u001b[0m\u001b[1;33m,\u001b[0m\u001b[0mt\u001b[0m\u001b[1;33m]\u001b[0m \u001b[1;33m=\u001b[0m \u001b[0mtorch\u001b[0m\u001b[1;33m.\u001b[0m\u001b[0mvstack\u001b[0m\u001b[1;33m(\u001b[0m\u001b[1;33m(\u001b[0m\u001b[0mone\u001b[0m\u001b[1;33m,\u001b[0m \u001b[0mu\u001b[0m\u001b[1;33m,\u001b[0m \u001b[0mx\u001b[0m\u001b[1;33m)\u001b[0m\u001b[1;33m)\u001b[0m\u001b[1;33m[\u001b[0m\u001b[1;33m:\u001b[0m\u001b[1;33m,\u001b[0m\u001b[1;36m0\u001b[0m\u001b[1;33m]\u001b[0m\u001b[1;33m\u001b[0m\u001b[1;33m\u001b[0m\u001b[0m\n\u001b[0;32m      9\u001b[0m \u001b[1;33m\u001b[0m\u001b[0m\n",
      "\u001b[1;31mKeyboardInterrupt\u001b[0m: "
     ]
    }
   ],
   "source": [
    "similarity, example, labels = calculate_simi(model, test_iter, Wout, device)"
   ]
  },
  {
   "cell_type": "code",
   "execution_count": null,
   "id": "37b7a66d",
   "metadata": {
    "scrolled": false
   },
   "outputs": [],
   "source": [
    "print(np.mean(MSE))\n",
    "print(np.mean(AUC))"
   ]
  },
  {
   "cell_type": "code",
   "execution_count": null,
   "id": "4158c7cb",
   "metadata": {},
   "outputs": [],
   "source": [
    "fpr, tpr, thresh = roc_curve(labels, similarity)\n",
    "roc_auc = auc(fpr, tpr)\n",
    "plt.figure(figsize=(5,5))\n",
    "plt.title('ROC_60000_10000_12000')\n",
    "plt.xlabel('False Positive Rate')\n",
    "plt.ylabel('True Positive Rate')\n",
    "plt.plot(fpr,tpr, label=u'AUC = %0.4f'% roc_auc)\n",
    "plt.legend(loc='lower right')\n",
    "plt.plot([0, 1], [0, 1], 'r--')\n",
    "plt.savefig(\"ROC.svg\", dpi=300)\n",
    "plt.show()"
   ]
  },
  {
   "cell_type": "code",
   "execution_count": null,
   "id": "209b704b",
   "metadata": {},
   "outputs": [],
   "source": [
    "xc = np.round(similarity[0:10].detach().numpy(),3)"
   ]
  },
  {
   "cell_type": "code",
   "execution_count": null,
   "id": "15d64356",
   "metadata": {},
   "outputs": [],
   "source": [
    "plt.figure()\n",
    "plt.imshow(example,'gray')\n",
    "plt.xticks(range(0, 280, 28), xc)\n",
    "x_major_locator = plt.MultipleLocator(28)\n",
    "ax = plt.gca()\n",
    "ax.xaxis.set_major_locator(x_major_locator)\n",
    "plt.savefig(\"example_images.svg\", dpi=300)\n",
    "plt.show()"
   ]
  },
  {
   "cell_type": "code",
   "execution_count": null,
   "id": "71196987",
   "metadata": {},
   "outputs": [],
   "source": [
    "def gauss_noise(data, mu, sd):\n",
    "    noise_data = np.zeros_like(data)\n",
    "    for i in range(len(test_imgs)):\n",
    "        noise = np.random.normal(loc=mu, scale=sd, size=data[i].shape)\n",
    "        noise_data[i] = data[i] + noise\n",
    "    return noise_data"
   ]
  },
  {
   "cell_type": "code",
   "execution_count": 65,
   "id": "9e535b1d",
   "metadata": {},
   "outputs": [
    {
     "data": {
      "text/plain": [
       "0.03844675124951941"
      ]
     },
     "execution_count": 65,
     "metadata": {},
     "output_type": "execute_result"
    }
   ],
   "source": [
    "50**2/(255**2)"
   ]
  },
  {
   "cell_type": "code",
   "execution_count": 66,
   "id": "93b1ed27",
   "metadata": {},
   "outputs": [],
   "source": [
    "rawimg = test_imgs[0]\n",
    "noise_img = addGaussNoise(rawimg/255, 50)"
   ]
  },
  {
   "cell_type": "code",
   "execution_count": 67,
   "id": "b71b7459",
   "metadata": {},
   "outputs": [],
   "source": [
    "compare = np.hstack((rawimg, noise_img*255))"
   ]
  },
  {
   "cell_type": "code",
   "execution_count": 68,
   "id": "c5fc17d1",
   "metadata": {},
   "outputs": [
    {
     "data": {
      "image/png": "[encoded data removed]",
      "text/plain": [
       "<Figure size 432x288 with 1 Axes>"
      ]
     },
     "metadata": {
      "needs_background": "light"
     },
     "output_type": "display_data"
    }
   ],
   "source": [
    "plt.imshow(compare,'gray')\n",
    "plt.savefig(\"Compare.svg\", dpi=300)"
   ]
  },
  {
   "cell_type": "code",
   "execution_count": null,
   "id": "f8d4e2bf",
   "metadata": {},
   "outputs": [],
   "source": [
    "noise_paired = PairedDataset(noise_imgs, test_labels)\n",
    "noise_iter = DataLoader(noise_paired, batch_size=batch_size_test, drop_last=True)"
   ]
  },
  {
   "cell_type": "code",
   "execution_count": null,
   "id": "87a5f723",
   "metadata": {},
   "outputs": [],
   "source": [
    "fpr, tpr, thresh = roc_curve(labels, similarity)\n",
    "roc_auc = auc(fpr, tpr)\n",
    "plt.figure(figsize=(5,5))\n",
    "plt.title('ROC_60000_10000_12000')\n",
    "plt.xlabel('False Positive Rate')\n",
    "plt.ylabel('True Positive Rate')\n",
    "plt.plot(fpr,tpr, label=u'AUC = %0.4f'% roc_auc)\n",
    "plt.legend(loc='lower right')\n",
    "plt.plot([0, 1], [0, 1], 'r--')\n",
    "plt.savefig(\"ROC.svg\", dpi=300)\n",
    "plt.show()"
   ]
  },
  {
   "cell_type": "code",
   "execution_count": null,
   "id": "fa0e1c1e",
   "metadata": {},
   "outputs": [],
   "source": [
    "plt.figure()\n",
    "plt.subplot(1,2,1)\n",
    "plt.imshow(test_imgs[0],'gray')\n",
    "plt.subplot(1,2,2)\n",
    "plt.imshow(noise_imgs[0],'gray')\n",
    "plt.savefig(\"noise_compare.svg\", dpi=300)\n",
    "print(test_labels[0])\n",
    "plt.show()"
   ]
  },
  {
   "cell_type": "code",
   "execution_count": null,
   "id": "4e203d90",
   "metadata": {},
   "outputs": [],
   "source": [
    "noise_simi, noise_example, noise_labels = calculate_simi(model, rc, noise_iter, Wout, device)"
   ]
  },
  {
   "cell_type": "code",
   "execution_count": null,
   "id": "86622208",
   "metadata": {},
   "outputs": [],
   "source": [
    "xn = np.round(noise_simi[0:10].detach().numpy(),3)"
   ]
  },
  {
   "cell_type": "code",
   "execution_count": 90,
   "id": "ffad4aea",
   "metadata": {},
   "outputs": [
    {
     "name": "stdout",
     "output_type": "stream",
     "text": [
      "tensor([0.6346, 0.9140, 0.3691, 0.2519, 0.4204, 0.3937, 0.7499, 0.6650, 0.4418,\n",
      "        0.4866])\n"
     ]
    },
    {
     "data": {
      "image/png": "[encoded data removed]",
      "text/plain": [
       "<Figure size 432x288 with 1 Axes>"
      ]
     },
     "metadata": {
      "needs_background": "light"
     },
     "output_type": "display_data"
    }
   ],
   "source": [
    "plt.figure()\n",
    "plt.imshow(noise_example,'gray')\n",
    "plt.title(\"Noise var=0.5\")\n",
    "plt.xticks(range(0, 280, 28), x)\n",
    "x_major_locator = plt.MultipleLocator(28)\n",
    "ax = plt.gca()\n",
    "ax.xaxis.set_major_locator(x_major_locator)\n",
    "plt.savefig(\"noiseExample_images.svg\", dpi=300)\n",
    "plt.show()"
   ]
  },
  {
   "cell_type": "code",
   "execution_count": 79,
   "id": "41d82192",
   "metadata": {},
   "outputs": [
    {
     "data": {
      "text/plain": [
       "tensor([[0.0000, 0.0000, 0.0000,  ..., 0.0000, 0.0000, 0.0000],\n",
       "        [0.0000, 0.0000, 0.0000,  ..., 0.0039, 0.0000, 0.0000],\n",
       "        [0.0000, 0.0000, 0.0000,  ..., 0.0000, 0.0000, 0.0000],\n",
       "        ...,\n",
       "        [0.0000, 0.0000, 0.0000,  ..., 0.0000, 0.0000, 0.0000],\n",
       "        [0.0000, 0.0000, 0.0000,  ..., 0.0000, 0.0000, 0.0000],\n",
       "        [0.0000, 0.0000, 0.0000,  ..., 0.0000, 0.0000, 0.0000]],\n",
       "       dtype=torch.float64)"
      ]
     },
     "execution_count": 79,
     "metadata": {},
     "output_type": "execute_result"
    }
   ],
   "source": []
  },
  {
   "cell_type": "code",
   "execution_count": 84,
   "id": "bcbf579d",
   "metadata": {},
   "outputs": [],
   "source": [
    "noise_example_pil = Image.fromarray(np.uint8(cv2.normalize(noise_example.detach().numpy(), None, 0, 255, cv2.NORM_MINMAX)))\n",
    "noise_example_pil.save(\"noise_example.png\")"
   ]
  }
 ],
 "metadata": {
  "kernelspec": {
   "display_name": "Python 3",
   "language": "python",
   "name": "python3"
  },
  "language_info": {
   "codemirror_mode": {
    "name": "ipython",
    "version": 3
   },
   "file_extension": ".py",
   "mimetype": "text/x-python",
   "name": "python",
   "nbconvert_exporter": "python",
   "pygments_lexer": "ipython3",
   "version": "3.8.8"
  }
 },
 "nbformat": 4,
 "nbformat_minor": 5
}
